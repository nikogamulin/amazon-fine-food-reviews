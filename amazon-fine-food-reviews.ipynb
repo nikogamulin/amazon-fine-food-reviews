{
 "cells": [
  {
   "cell_type": "code",
   "execution_count": 11,
   "metadata": {
    "collapsed": false
   },
   "outputs": [],
   "source": [
    "import nltk\n",
    "from nltk.corpus import stopwords \n",
    "stops = set(stopwords.words(\"english\"))\n",
    "from gensim.models import Word2Vec, Phrases\n",
    "from bs4 import BeautifulSoup \n",
    "import re\n",
    "import sqlite3\n",
    "import pandas as pd\n",
    "import numpy as np\n",
    "import string\n",
    "import matplotlib.pyplot as plt\n",
    "from sklearn.cross_validation import train_test_split\n",
    "from sklearn.metrics import roc_auc_score\n",
    "from sklearn import linear_model\n",
    "import logging\n",
    "\n",
    "from sklearn.manifold import TSNE\n",
    "import matplotlib.pyplot as plt\n",
    "%matplotlib inline\n",
    "plt.rcParams['figure.figsize'] = (10, 6)\n",
    "\n",
    "#location of sqlite\n",
    "dataLoc= './data/database.sqlite'\n",
    "\n",
    "pd.set_option('max_colwidth', 100)"
   ]
  },
  {
   "cell_type": "code",
   "execution_count": 2,
   "metadata": {
    "collapsed": true
   },
   "outputs": [],
   "source": [
    "class Word2VecUtility(object):\n",
    "    \"\"\"Word2VecUtility is a utility class for processing raw HTML text into segments for further learning\"\"\"\n",
    "    \n",
    "    negators = [line.strip() for line in file('./data/negator.txt','r')]\n",
    "\n",
    "    @staticmethod\n",
    "    def review_to_wordlist( review, remove_stopwords=False ):\n",
    "        # Function to convert a document to a sequence of words,\n",
    "        # optionally removing stop words.  Returns a list of words.\n",
    "        #\n",
    "        # 1. Remove HTML\n",
    "        review_text = BeautifulSoup(review, \"lxml\").get_text()\n",
    "        #\n",
    "        # 2. Extract special negator like n't\n",
    "        review_text = re.sub('n\\'t', ' not', review_text)\n",
    "        #\n",
    "        # 3. Remove non-letters\n",
    "        review_text = re.sub(\"[^a-zA-Z]\",\" \", review_text)\n",
    "        #\n",
    "        # 4. Convert words to lower case and split them\n",
    "        words = review_text.lower().split()\n",
    "        #\n",
    "        # 5. Optionally remove stop words except for negators (false by default)\n",
    "        if remove_stopwords:\n",
    "            stops = set(stopwords.words(\"english\"))\n",
    "            words = [w for w in words if not w in stops or w in KaggleWord2VecUtility.negators]\n",
    "        #\n",
    "        # 6. Return a list of words\n",
    "        return(words)\n",
    "\n",
    "    # Define a function to split a review into parsed sentences\n",
    "    @staticmethod\n",
    "    def review_to_sentences( review, tokenizer, remove_stopwords=False ):\n",
    "        # Function to split a review into parsed sentences. Returns a\n",
    "        # list of sentences, where each sentence is a list of words\n",
    "        #\n",
    "        # 1. Use the NLTK tokenizer to split the paragraph into sentences\n",
    "        raw_sentences = tokenizer.tokenize(review.encode('raw_unicode_escape').decode('utf8', 'replace').strip())\n",
    "        #\n",
    "        # 2. Loop over each sentence\n",
    "        sentences = []\n",
    "        for raw_sentence in raw_sentences:\n",
    "            # If a sentence is empty, skip it\n",
    "            if len(raw_sentence) > 0:\n",
    "                # Otherwise, call review_to_wordlist to get a list of words\n",
    "                sentences.append( Word2VecUtility.review_to_wordlist( raw_sentence, \\\n",
    "                  remove_stopwords ))\n",
    "        #\n",
    "        # Return the list of sentences (each sentence is a list of words,\n",
    "        # so this returns a list of lists\n",
    "        return sentences"
   ]
  },
  {
   "cell_type": "code",
   "execution_count": 3,
   "metadata": {
    "collapsed": true
   },
   "outputs": [],
   "source": [
    "connection = sqlite3.connect(dataLoc)\n",
    "reviews = pd.read_sql_query(\"\"\" SELECT Score, Summary, Text FROM Reviews WHERE Score != 3 \"\"\", connection)"
   ]
  },
  {
   "cell_type": "code",
   "execution_count": 4,
   "metadata": {
    "collapsed": false
   },
   "outputs": [
    {
     "data": {
      "text/html": [
       "<div>\n",
       "<table border=\"1\" class=\"dataframe\">\n",
       "  <thead>\n",
       "    <tr style=\"text-align: right;\">\n",
       "      <th></th>\n",
       "      <th>Score</th>\n",
       "      <th>Summary</th>\n",
       "      <th>Text</th>\n",
       "    </tr>\n",
       "  </thead>\n",
       "  <tbody>\n",
       "    <tr>\n",
       "      <th>0</th>\n",
       "      <td>5</td>\n",
       "      <td>Good Quality Dog Food</td>\n",
       "      <td>I have bought several of the Vitality canned dog food products and have found them all to be of ...</td>\n",
       "    </tr>\n",
       "    <tr>\n",
       "      <th>1</th>\n",
       "      <td>1</td>\n",
       "      <td>Not as Advertised</td>\n",
       "      <td>Product arrived labeled as Jumbo Salted Peanuts...the peanuts were actually small sized unsalted...</td>\n",
       "    </tr>\n",
       "    <tr>\n",
       "      <th>2</th>\n",
       "      <td>4</td>\n",
       "      <td>\"Delight\" says it all</td>\n",
       "      <td>This is a confection that has been around a few centuries.  It is a light, pillowy citrus gelati...</td>\n",
       "    </tr>\n",
       "    <tr>\n",
       "      <th>3</th>\n",
       "      <td>2</td>\n",
       "      <td>Cough Medicine</td>\n",
       "      <td>If you are looking for the secret ingredient in Robitussin I believe I have found it.  I got thi...</td>\n",
       "    </tr>\n",
       "    <tr>\n",
       "      <th>4</th>\n",
       "      <td>5</td>\n",
       "      <td>Great taffy</td>\n",
       "      <td>Great taffy at a great price.  There was a wide assortment of yummy taffy.  Delivery was very qu...</td>\n",
       "    </tr>\n",
       "  </tbody>\n",
       "</table>\n",
       "</div>"
      ],
      "text/plain": [
       "   Score                Summary  \\\n",
       "0      5  Good Quality Dog Food   \n",
       "1      1      Not as Advertised   \n",
       "2      4  \"Delight\" says it all   \n",
       "3      2         Cough Medicine   \n",
       "4      5            Great taffy   \n",
       "\n",
       "                                                                                                  Text  \n",
       "0  I have bought several of the Vitality canned dog food products and have found them all to be of ...  \n",
       "1  Product arrived labeled as Jumbo Salted Peanuts...the peanuts were actually small sized unsalted...  \n",
       "2  This is a confection that has been around a few centuries.  It is a light, pillowy citrus gelati...  \n",
       "3  If you are looking for the secret ingredient in Robitussin I believe I have found it.  I got thi...  \n",
       "4  Great taffy at a great price.  There was a wide assortment of yummy taffy.  Delivery was very qu...  "
      ]
     },
     "execution_count": 4,
     "metadata": {},
     "output_type": "execute_result"
    }
   ],
   "source": [
    "reviews.head()"
   ]
  },
  {
   "cell_type": "code",
   "execution_count": 5,
   "metadata": {
    "collapsed": false
   },
   "outputs": [
    {
     "name": "stderr",
     "output_type": "stream",
     "text": [
      "C:\\Anaconda2\\lib\\site-packages\\bs4\\__init__.py:198: UserWarning: \"...\" looks like a filename, not markup. You should probably open this file and pass the filehandle into Beautiful Soup.\n",
      "  '\"%s\" looks like a filename, not markup. You should probably open this file and pass the filehandle into Beautiful Soup.' % markup)\n",
      "C:\\Anaconda2\\lib\\site-packages\\bs4\\__init__.py:207: UserWarning: \"http://www.amazon.com/gp/product/B007I7YYGY/ref=cm_cr_rev_prod_title\" looks like a URL. Beautiful Soup is not an HTTP client. You should probably use an HTTP client to get the document behind the URL, and feed that document to Beautiful Soup.\n",
      "  '\"%s\" looks like a URL. Beautiful Soup is not an HTTP client. You should probably use an HTTP client to get the document behind the URL, and feed that document to Beautiful Soup.' % markup)\n",
      "C:\\Anaconda2\\lib\\site-packages\\bs4\\__init__.py:198: UserWarning: \".\" looks like a filename, not markup. You should probably open this file and pass the filehandle into Beautiful Soup.\n",
      "  '\"%s\" looks like a filename, not markup. You should probably open this file and pass the filehandle into Beautiful Soup.' % markup)\n",
      "C:\\Anaconda2\\lib\\site-packages\\bs4\\__init__.py:207: UserWarning: \"http://www.amazon.com/gp/product/B001EQ58FQ/ref=cm_cr_rev_prod_title\" looks like a URL. Beautiful Soup is not an HTTP client. You should probably use an HTTP client to get the document behind the URL, and feed that document to Beautiful Soup.\n",
      "  '\"%s\" looks like a URL. Beautiful Soup is not an HTTP client. You should probably use an HTTP client to get the document behind the URL, and feed that document to Beautiful Soup.' % markup)\n"
     ]
    }
   ],
   "source": [
    "reviews['word_list']=reviews['Summary'].apply(Word2VecUtility.review_to_wordlist)"
   ]
  },
  {
   "cell_type": "code",
   "execution_count": 6,
   "metadata": {
    "collapsed": false
   },
   "outputs": [
    {
     "name": "stdout",
     "output_type": "stream",
     "text": [
      "   Score                                        Summary  \\\n",
      "0      5                          Good Quality Dog Food   \n",
      "1      1                              Not as Advertised   \n",
      "2      4                          \"Delight\" says it all   \n",
      "3      2                                 Cough Medicine   \n",
      "4      5                                    Great taffy   \n",
      "5      4                                     Nice Taffy   \n",
      "6      5  Great!  Just as good as the expensive brands!   \n",
      "7      5                         Wonderful, tasty taffy   \n",
      "8      5                                     Yay Barley   \n",
      "9      5                               Healthy Dog Food   \n",
      "\n",
      "                                                                                                  Text  \\\n",
      "0  I have bought several of the Vitality canned dog food products and have found them all to be of ...   \n",
      "1  Product arrived labeled as Jumbo Salted Peanuts...the peanuts were actually small sized unsalted...   \n",
      "2  This is a confection that has been around a few centuries.  It is a light, pillowy citrus gelati...   \n",
      "3  If you are looking for the secret ingredient in Robitussin I believe I have found it.  I got thi...   \n",
      "4  Great taffy at a great price.  There was a wide assortment of yummy taffy.  Delivery was very qu...   \n",
      "5  I got a wild hair for taffy and ordered this five pound bag. The taffy was all very enjoyable wi...   \n",
      "6  This saltwater taffy had great flavors and was very soft and chewy.  Each candy was individually...   \n",
      "7  This taffy is so good.  It is very soft and chewy.  The flavors are amazing.  I would definitely...   \n",
      "8  Right now I'm mostly just sprouting this so my cats can eat the grass. They love it. I rotate it...   \n",
      "9  This is a very healthy dog food. Good for their digestion. Also good for small puppies. My dog e...   \n",
      "\n",
      "                                             word_list  \n",
      "0                           [good, quality, dog, food]  \n",
      "1                                [not, as, advertised]  \n",
      "2                             [delight, says, it, all]  \n",
      "3                                    [cough, medicine]  \n",
      "4                                       [great, taffy]  \n",
      "5                                        [nice, taffy]  \n",
      "6  [great, just, as, good, as, the, expensive, brands]  \n",
      "7                            [wonderful, tasty, taffy]  \n",
      "8                                        [yay, barley]  \n",
      "9                                 [healthy, dog, food]  \n"
     ]
    }
   ],
   "source": [
    "print(reviews.head(10))"
   ]
  },
  {
   "cell_type": "code",
   "execution_count": null,
   "metadata": {
    "collapsed": false
   },
   "outputs": [],
   "source": [
    "n_dim = 5000\n",
    "model_name = \"%dfeatures_40minwords_10context\" % n_dim\n",
    "tokenizer = nltk.data.load('tokenizers/punkt/english.pickle')\n",
    "sentences = []\n",
    "for review in reviews['Text']:\n",
    "    sentences += Word2VecUtility.review_to_sentences(review, tokenizer)\n",
    "    \n",
    "logging.basicConfig(format='%(asctime)s : %(levelname)s : %(message)s',\\\n",
    "                            level=logging.INFO)\n",
    "\n",
    "num_features = n_dim    # Word vector dimensionality\n",
    "min_word_count = 5   # Minimum word count\n",
    "num_workers = 4       # Number of threads to run in parallel\n",
    "context = 10          # Context window size\n",
    "downsampling = 1e-3   # Downsample setting for frequent words\n",
    "\n",
    "print \"Training Word2Vec model...\"\n",
    "bigram_transformer = Phrases(sentences)\n",
    "model = Word2Vec(bigram_transformer[sentences], workers=num_workers, \\\n",
    "                 size=num_features, min_count = min_word_count, \\\n",
    "                 window = context, sample = downsampling, seed=1)\n",
    "\n",
    "model.init_sims(replace=True)\n",
    "model.save(model_name)"
   ]
  },
  {
   "cell_type": "code",
   "execution_count": 3,
   "metadata": {
    "collapsed": false
   },
   "outputs": [
    {
     "name": "stdout",
     "output_type": "stream",
     "text": [
      "Creating the w2v vectors...\n",
      "\n"
     ]
    },
    {
     "data": {
      "text/plain": [
       "[(u'cookies', 0.7305686473846436),\n",
       " (u'brownie', 0.6963675022125244),\n",
       " (u'graham_cracker', 0.6502403020858765),\n",
       " (u'shortbread', 0.6094766855239868),\n",
       " (u'biscuit', 0.6075268983840942),\n",
       " (u'cracker', 0.5732108950614929),\n",
       " (u'fig_newton', 0.5687580108642578),\n",
       " (u'oreo', 0.5681439638137817),\n",
       " (u'wafer', 0.5678220391273499),\n",
       " (u'granola_bar', 0.5615130662918091),\n",
       " (u'graham_crackers', 0.5568894743919373),\n",
       " (u'candy_bar', 0.5347616076469421),\n",
       " (u'ginger_snap', 0.5297294855117798),\n",
       " (u'muffin', 0.5259690284729004),\n",
       " (u'wafers', 0.5253137946128845),\n",
       " (u'chocolate_chip', 0.525009274482727),\n",
       " (u'biscotti', 0.5204296112060547),\n",
       " (u'chips_ahoy', 0.5191755890846252),\n",
       " (u'ginger_snaps', 0.5151157975196838),\n",
       " (u'bar', 0.5105332136154175)]"
      ]
     },
     "execution_count": 3,
     "metadata": {},
     "output_type": "execute_result"
    }
   ],
   "source": [
    "n_dim = 5000\n",
    "model_name = \"%dfeatures_40minwords_10context\" % n_dim\n",
    "model = Word2Vec.load(model_name)\n",
    "print \"Creating the w2v vectors...\\n\"\n",
    "model.most_similar('cookie', topn=20)"
   ]
  },
  {
   "cell_type": "code",
   "execution_count": 14,
   "metadata": {
    "collapsed": false
   },
   "outputs": [
    {
     "data": {
      "image/png": "[encoded data removed]",
      "text/plain": [
       "<matplotlib.figure.Figure at 0x7f2b6870ec90>"
      ]
     },
     "metadata": {},
     "output_type": "display_data"
    }
   ],
   "source": [
    "ignoredIndices = []\n",
    "testTitles = ['cookies', 'chocolate', 'granola_bar', 'banana', 'brownie', 'muffin']\n",
    "testVectors = []\n",
    "for i, title in enumerate(testTitles):\n",
    "    vectorWords = title.split(', ')\n",
    "    result = None\n",
    "    for vec in vectorWords:\n",
    "        vec = vec.replace(' ', '_')\n",
    "        try:\n",
    "            if result is None:\n",
    "                result = model[vec]\n",
    "            else:\n",
    "                result += model[vec]\n",
    "        except:\n",
    "            print \"vector for word %s not found\" % vec\n",
    "    if result is None:\n",
    "        ignoredIndices.append(i)\n",
    "        testVectors.append([0] * 50)\n",
    "    else:\n",
    "        testVectors.append(result.tolist())\n",
    "testVectorsArray = np.array(testVectors)\n",
    "\n",
    "modelTSNE = TSNE(n_components=2, random_state=0)\n",
    "X_2d = modelTSNE.fit_transform(testVectorsArray)\n",
    "for i in xrange(len(testTitles)):\n",
    "    if not i in ignoredIndices:\n",
    "        plt.text(X_2d[i,0], X_2d[i,1], testTitles[i], bbox=dict(facecolor='green', alpha=0.1))\n",
    "    \n",
    "plt.xlim((np.min(X_2d[:,0]), np.max(X_2d[:,0])))\n",
    "plt.ylim((np.min(X_2d[:,1]), np.max(X_2d[:,1])))\n",
    "\n",
    "plt.show()"
   ]
  },
  {
   "cell_type": "code",
   "execution_count": null,
   "metadata": {
    "collapsed": true
   },
   "outputs": [],
   "source": []
  }
 ],
 "metadata": {
  "kernelspec": {
   "display_name": "Python 2",
   "language": "python",
   "name": "python2"
  },
  "language_info": {
   "codemirror_mode": {
    "name": "ipython",
    "version": 2
   },
   "file_extension": ".py",
   "mimetype": "text/x-python",
   "name": "python",
   "nbconvert_exporter": "python",
   "pygments_lexer": "ipython2",
   "version": "2.7.11"
  }
 },
 "nbformat": 4,
 "nbformat_minor": 0
}
